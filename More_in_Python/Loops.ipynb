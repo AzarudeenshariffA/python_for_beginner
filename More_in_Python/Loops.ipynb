{
 "cells": [
  {
   "cell_type": "code",
   "execution_count": 1,
   "id": "ad4e66b5",
   "metadata": {},
   "outputs": [],
   "source": [
    "# for, while, break, continue, range()"
   ]
  },
  {
   "cell_type": "code",
   "execution_count": 3,
   "id": "ae1cdeff",
   "metadata": {},
   "outputs": [
    {
     "name": "stdout",
     "output_type": "stream",
     "text": [
      "1\n",
      "2\n",
      "3\n",
      "4\n",
      "5\n",
      "6\n",
      "7\n",
      "8\n",
      "9\n",
      "10\n"
     ]
    }
   ],
   "source": [
    "# for loop\n",
    "\n",
    "x = [1,2,3,4,5,6,7,8,9,10]\n",
    "\n",
    "for i in x:\n",
    "    print(i)"
   ]
  },
  {
   "cell_type": "code",
   "execution_count": 1,
   "id": "5ce20cdb",
   "metadata": {},
   "outputs": [
    {
     "name": "stdout",
     "output_type": "stream",
     "text": [
      "enter a letter: a\n",
      "enter a letter: b\n",
      "enter a letter: c\n",
      "enter a letter: d\n",
      "enter a letter: e\n",
      "enter a letter: f\n",
      "enter a letter: g\n",
      "enter a letter: h\n",
      "['A', 'B', 'C', 'D', 'E', 'F', 'G', 'H']\n"
     ]
    }
   ],
   "source": [
    "# loop and user input \n",
    "\n",
    "x = [0,1,2,3,4,5,6,7]\n",
    "\n",
    "for i in x:\n",
    "    a = input(\"enter a letter: \") \n",
    "    x[i] = a.upper()\n",
    "    \n",
    "print(x)"
   ]
  },
  {
   "cell_type": "code",
   "execution_count": 2,
   "id": "5e4874c1",
   "metadata": {},
   "outputs": [
    {
     "name": "stdout",
     "output_type": "stream",
     "text": [
      "0\n",
      "1\n",
      "2\n",
      "3\n",
      "4\n",
      "5\n",
      "6\n",
      "7\n",
      "8\n",
      "9\n"
     ]
    }
   ],
   "source": [
    "# while loop \n",
    "\n",
    "i = 0\n",
    "\n",
    "while(i<10):\n",
    "    print(i)\n",
    "    i = i + 1\n",
    "    \n"
   ]
  },
  {
   "cell_type": "code",
   "execution_count": 3,
   "id": "d98e44ac",
   "metadata": {},
   "outputs": [],
   "source": [
    "# loop in string"
   ]
  },
  {
   "cell_type": "code",
   "execution_count": 4,
   "id": "65f3eeb9",
   "metadata": {},
   "outputs": [
    {
     "name": "stdout",
     "output_type": "stream",
     "text": [
      "a\n",
      "z\n",
      "a\n",
      "r\n"
     ]
    }
   ],
   "source": [
    "for i in \"azar\":\n",
    "    print(i)"
   ]
  },
  {
   "cell_type": "code",
   "execution_count": 1,
   "id": "b08d4730",
   "metadata": {},
   "outputs": [
    {
     "name": "stdout",
     "output_type": "stream",
     "text": [
      "a\n",
      "z\n",
      "a\n",
      "r\n"
     ]
    }
   ],
   "source": [
    "i = 0 \n",
    "name = \"azar\"\n",
    "while(i<len(name)):\n",
    "    print(name[i])\n",
    "    i=i+1"
   ]
  },
  {
   "cell_type": "code",
   "execution_count": 2,
   "id": "a90f7cdc",
   "metadata": {},
   "outputs": [],
   "source": [
    "# break"
   ]
  },
  {
   "cell_type": "code",
   "execution_count": 3,
   "id": "3be16015",
   "metadata": {},
   "outputs": [
    {
     "name": "stdout",
     "output_type": "stream",
     "text": [
      "1\n",
      "2\n",
      "3\n",
      "4\n"
     ]
    }
   ],
   "source": [
    "x = [1,2,3,4,5,6,7,8,9]\n",
    "\n",
    "for i in x:\n",
    "    if(i==5):\n",
    "        break # breaks the loop\n",
    "    else:\n",
    "        print(i)"
   ]
  },
  {
   "cell_type": "code",
   "execution_count": 4,
   "id": "24b83e6e",
   "metadata": {},
   "outputs": [],
   "source": [
    "# continue"
   ]
  },
  {
   "cell_type": "code",
   "execution_count": 6,
   "id": "15a5410d",
   "metadata": {},
   "outputs": [
    {
     "name": "stdout",
     "output_type": "stream",
     "text": [
      "1\n",
      "2\n",
      "3\n",
      "4\n",
      "6\n",
      "7\n",
      "8\n",
      "9\n"
     ]
    }
   ],
   "source": [
    "x = [1,2,3,4,5,6,7,8,9]\n",
    "\n",
    "for i in x:\n",
    "    if(i==5):\n",
    "        continue # loop will go to up and starts \n",
    "    else:\n",
    "        print(i)"
   ]
  },
  {
   "cell_type": "code",
   "execution_count": 7,
   "id": "dfc3aaea",
   "metadata": {},
   "outputs": [],
   "source": [
    "# range() function range(start,stop-1,order of increament)"
   ]
  },
  {
   "cell_type": "code",
   "execution_count": 10,
   "id": "277ca975",
   "metadata": {},
   "outputs": [
    {
     "name": "stdout",
     "output_type": "stream",
     "text": [
      "0\n",
      "1\n",
      "2\n",
      "3\n",
      "4\n",
      "5\n",
      "6\n",
      "7\n",
      "8\n",
      "9\n"
     ]
    }
   ],
   "source": [
    "for i in range(10):\n",
    "    print(i)\n"
   ]
  },
  {
   "cell_type": "code",
   "execution_count": 11,
   "id": "992dbbea",
   "metadata": {},
   "outputs": [
    {
     "name": "stdout",
     "output_type": "stream",
     "text": [
      "1\n",
      "3\n",
      "5\n",
      "7\n",
      "9\n"
     ]
    }
   ],
   "source": [
    "for i in range(1,10,2):\n",
    "    print(i)"
   ]
  },
  {
   "cell_type": "code",
   "execution_count": 13,
   "id": "62703893",
   "metadata": {},
   "outputs": [],
   "source": [
    "# else in loop"
   ]
  },
  {
   "cell_type": "code",
   "execution_count": 16,
   "id": "a14d1ce9",
   "metadata": {},
   "outputs": [
    {
     "name": "stdout",
     "output_type": "stream",
     "text": [
      "0\n",
      "1\n",
      "2\n",
      "3\n",
      "4\n",
      "5\n",
      "6\n",
      "7\n",
      "8\n",
      "9\n",
      "loop printed the value\n"
     ]
    }
   ],
   "source": [
    "for x in range(10):\n",
    "    print(x)\n",
    "else:\n",
    "    print(\"loop printed the value\")"
   ]
  },
  {
   "cell_type": "code",
   "execution_count": 18,
   "id": "0e7670a6",
   "metadata": {},
   "outputs": [],
   "source": [
    "# nested loop"
   ]
  },
  {
   "cell_type": "code",
   "execution_count": 22,
   "id": "e6e1e2b5",
   "metadata": {},
   "outputs": [
    {
     "name": "stdout",
     "output_type": "stream",
     "text": [
      "small:spipe\n",
      "['small', 'medium', 'large'] ['spipe', 'mpipe', 'lpipe']\n",
      "small:mpipe\n",
      "['small', 'medium', 'large'] ['spipe', 'mpipe', 'lpipe']\n",
      "small:lpipe\n",
      "['small', 'medium', 'large'] ['spipe', 'mpipe', 'lpipe']\n",
      "medium:spipe\n",
      "['small', 'medium', 'large'] ['spipe', 'mpipe', 'lpipe']\n",
      "medium:mpipe\n",
      "['small', 'medium', 'large'] ['spipe', 'mpipe', 'lpipe']\n",
      "medium:lpipe\n",
      "['small', 'medium', 'large'] ['spipe', 'mpipe', 'lpipe']\n",
      "large:spipe\n",
      "['small', 'medium', 'large'] ['spipe', 'mpipe', 'lpipe']\n",
      "large:mpipe\n",
      "['small', 'medium', 'large'] ['spipe', 'mpipe', 'lpipe']\n",
      "large:lpipe\n",
      "['small', 'medium', 'large'] ['spipe', 'mpipe', 'lpipe']\n"
     ]
    }
   ],
   "source": [
    "x = [\"small\",\"medium\",\"large\"]\n",
    "y = [\"spipe\",\"mpipe\",\"lpipe\"]\n",
    "\n",
    "for i in x:\n",
    "    for j in y:\n",
    "        print(f\"{i}:{j}\")\n",
    "        print(x,y)"
   ]
  },
  {
   "cell_type": "code",
   "execution_count": null,
   "id": "995c9aeb",
   "metadata": {},
   "outputs": [],
   "source": []
  },
  {
   "cell_type": "code",
   "execution_count": null,
   "id": "0e11047f",
   "metadata": {},
   "outputs": [],
   "source": []
  }
 ],
 "metadata": {
  "kernelspec": {
   "display_name": "Python 3 (ipykernel)",
   "language": "python",
   "name": "python3"
  },
  "language_info": {
   "codemirror_mode": {
    "name": "ipython",
    "version": 3
   },
   "file_extension": ".py",
   "mimetype": "text/x-python",
   "name": "python",
   "nbconvert_exporter": "python",
   "pygments_lexer": "ipython3",
   "version": "3.9.12"
  }
 },
 "nbformat": 4,
 "nbformat_minor": 5
}
