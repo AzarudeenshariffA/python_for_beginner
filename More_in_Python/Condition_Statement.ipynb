{
 "cells": [
  {
   "cell_type": "code",
   "execution_count": 2,
   "id": "6da4cd28",
   "metadata": {},
   "outputs": [],
   "source": [
    "# if-else condtion \n",
    "\n",
    "# if\n",
    "x = 3\n",
    "y = 4 \n",
    "if (x == y):\n",
    "    print(\"equal\")"
   ]
  },
  {
   "cell_type": "code",
   "execution_count": 8,
   "id": "e9c4392f",
   "metadata": {},
   "outputs": [
    {
     "name": "stdout",
     "output_type": "stream",
     "text": [
      "not equal\n"
     ]
    }
   ],
   "source": [
    "# if- else\n",
    "if(x == y):\n",
    "    print(\"equal\")\n",
    "else:\n",
    "    print(\"not equal\")\n",
    "print('execute')"
   ]
  },
  {
   "cell_type": "code",
   "execution_count": 1,
   "id": "384d6019",
   "metadata": {},
   "outputs": [
    {
     "name": "stdout",
     "output_type": "stream",
     "text": [
      "10\n"
     ]
    }
   ],
   "source": [
    "# multiple condition (elif)\n",
    "\n",
    "x = 3\n",
    "y = 6\n",
    "z = 10\n",
    "\n",
    "if(x>y and x>z):\n",
    "    print(x)\n",
    "elif(y>x and y>z):\n",
    "    print(y)\n",
    "else:\n",
    "    print(z)"
   ]
  },
  {
   "cell_type": "code",
   "execution_count": 3,
   "id": "6f7e7cfe",
   "metadata": {},
   "outputs": [
    {
     "name": "stdout",
     "output_type": "stream",
     "text": [
      "10\n"
     ]
    }
   ],
   "source": [
    "# nested condition \n",
    "\n",
    "x = 3\n",
    "y = 6\n",
    "z = 10\n",
    "\n",
    "if(x>y and x>z):\n",
    "    print(x)\n",
    "else:\n",
    "    if(y>x and y>z):\n",
    "        print(y)\n",
    "    else:\n",
    "        print(z)\n"
   ]
  },
  {
   "cell_type": "code",
   "execution_count": null,
   "id": "bcc210a3",
   "metadata": {},
   "outputs": [],
   "source": []
  }
 ],
 "metadata": {
  "kernelspec": {
   "display_name": "Python 3 (ipykernel)",
   "language": "python",
   "name": "python3"
  },
  "language_info": {
   "codemirror_mode": {
    "name": "ipython",
    "version": 3
   },
   "file_extension": ".py",
   "mimetype": "text/x-python",
   "name": "python",
   "nbconvert_exporter": "python",
   "pygments_lexer": "ipython3",
   "version": "3.9.12"
  }
 },
 "nbformat": 4,
 "nbformat_minor": 5
}
