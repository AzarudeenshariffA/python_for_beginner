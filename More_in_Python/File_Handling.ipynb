{
 "cells": [
  {
   "cell_type": "code",
   "execution_count": 1,
   "id": "0c82ec69",
   "metadata": {},
   "outputs": [],
   "source": [
    "# opening and reading the file"
   ]
  },
  {
   "cell_type": "code",
   "execution_count": 9,
   "id": "d13f82bc",
   "metadata": {},
   "outputs": [],
   "source": [
    "# r --> read\n",
    "# w --> write\n",
    "# a --> append\n",
    "# a+ --> read and appending\n",
    "# w+ --> write and read\n",
    "# r+ --> write and read\n",
    "# x --> if the file exist it will create and if file not exist it will create"
   ]
  },
  {
   "cell_type": "code",
   "execution_count": null,
   "id": "a3e2e0dc",
   "metadata": {},
   "outputs": [],
   "source": [
    "# opening and reading"
   ]
  },
  {
   "cell_type": "code",
   "execution_count": 10,
   "id": "13b8db1d",
   "metadata": {},
   "outputs": [],
   "source": [
    "f = open(\"text.txt\",\"r\")"
   ]
  },
  {
   "cell_type": "code",
   "execution_count": 11,
   "id": "12d94a7a",
   "metadata": {},
   "outputs": [
    {
     "name": "stdout",
     "output_type": "stream",
     "text": [
      "green\n",
      "blue \n",
      "red\n",
      "yellow\n"
     ]
    }
   ],
   "source": [
    "print(f.read())"
   ]
  },
  {
   "cell_type": "code",
   "execution_count": 16,
   "id": "d4ce6990",
   "metadata": {},
   "outputs": [
    {
     "name": "stdout",
     "output_type": "stream",
     "text": [
      "<_io.TextIOWrapper name='text.txt' mode='r' encoding='cp1252'>\n"
     ]
    }
   ],
   "source": [
    "print(f)"
   ]
  },
  {
   "cell_type": "code",
   "execution_count": 17,
   "id": "7fdcde7e",
   "metadata": {},
   "outputs": [
    {
     "ename": "FileNotFoundError",
     "evalue": "[Errno 2] No such file or directory: 'text1.txt'",
     "output_type": "error",
     "traceback": [
      "\u001b[1;31m---------------------------------------------------------------------------\u001b[0m",
      "\u001b[1;31mFileNotFoundError\u001b[0m                         Traceback (most recent call last)",
      "Input \u001b[1;32mIn [17]\u001b[0m, in \u001b[0;36m<cell line: 1>\u001b[1;34m()\u001b[0m\n\u001b[1;32m----> 1\u001b[0m f \u001b[38;5;241m=\u001b[39m \u001b[38;5;28;43mopen\u001b[39;49m\u001b[43m(\u001b[49m\u001b[38;5;124;43m\"\u001b[39;49m\u001b[38;5;124;43mtext1.txt\u001b[39;49m\u001b[38;5;124;43m\"\u001b[39;49m\u001b[43m,\u001b[49m\u001b[38;5;124;43m\"\u001b[39;49m\u001b[38;5;124;43mr\u001b[39;49m\u001b[38;5;124;43m\"\u001b[39;49m\u001b[43m)\u001b[49m\n",
      "\u001b[1;31mFileNotFoundError\u001b[0m: [Errno 2] No such file or directory: 'text1.txt'"
     ]
    }
   ],
   "source": [
    "f = open(\"text1.txt\",\"r\") # if file not exist means it shows error"
   ]
  },
  {
   "cell_type": "code",
   "execution_count": 25,
   "id": "2b56b805",
   "metadata": {},
   "outputs": [],
   "source": [
    "# writing file"
   ]
  },
  {
   "cell_type": "code",
   "execution_count": 55,
   "id": "4383876f",
   "metadata": {},
   "outputs": [],
   "source": [
    "w = open(\"text1.txt\",\"w\") # if file doesnt exist means it will create and add the text"
   ]
  },
  {
   "cell_type": "code",
   "execution_count": 33,
   "id": "26cccdfd",
   "metadata": {},
   "outputs": [
    {
     "data": {
      "text/plain": [
       "5"
      ]
     },
     "execution_count": 33,
     "metadata": {},
     "output_type": "execute_result"
    }
   ],
   "source": [
    "w.write(\"hello\")"
   ]
  },
  {
   "cell_type": "code",
   "execution_count": 34,
   "id": "6b6368ea",
   "metadata": {},
   "outputs": [
    {
     "name": "stdout",
     "output_type": "stream",
     "text": [
      "hello\n"
     ]
    }
   ],
   "source": [
    "# print(w.read())"
   ]
  },
  {
   "cell_type": "code",
   "execution_count": 23,
   "id": "8255fb3a",
   "metadata": {},
   "outputs": [],
   "source": [
    "# w.close() # --> after closing the text will be updated in file"
   ]
  },
  {
   "cell_type": "code",
   "execution_count": 21,
   "id": "dd5c00cd",
   "metadata": {},
   "outputs": [],
   "source": [
    "# if we again add text means it will clear all the text in the file and add the text"
   ]
  },
  {
   "cell_type": "code",
   "execution_count": 38,
   "id": "3a6f38cb",
   "metadata": {},
   "outputs": [
    {
     "data": {
      "text/plain": [
       "20"
      ]
     },
     "execution_count": 38,
     "metadata": {},
     "output_type": "execute_result"
    }
   ],
   "source": [
    "w.write(\"welcome to my github\")"
   ]
  },
  {
   "cell_type": "code",
   "execution_count": 42,
   "id": "4244b374",
   "metadata": {},
   "outputs": [
    {
     "data": {
      "text/plain": [
       "'welcome to my github'"
      ]
     },
     "execution_count": 42,
     "metadata": {},
     "output_type": "execute_result"
    }
   ],
   "source": [
    "# w.read()"
   ]
  },
  {
   "cell_type": "code",
   "execution_count": 51,
   "id": "d876bada",
   "metadata": {},
   "outputs": [],
   "source": [
    "# w.close()"
   ]
  },
  {
   "cell_type": "code",
   "execution_count": 56,
   "id": "13b98b80",
   "metadata": {},
   "outputs": [
    {
     "data": {
      "text/plain": [
       "17"
      ]
     },
     "execution_count": 56,
     "metadata": {},
     "output_type": "execute_result"
    }
   ],
   "source": [
    "w.write(\"hello\\nhow are you\")"
   ]
  },
  {
   "cell_type": "code",
   "execution_count": 57,
   "id": "f209cb89",
   "metadata": {},
   "outputs": [],
   "source": [
    "w.close()"
   ]
  },
  {
   "cell_type": "code",
   "execution_count": 66,
   "id": "893f5652",
   "metadata": {},
   "outputs": [],
   "source": [
    "f = open(\"forintext.txt\",\"w\")"
   ]
  },
  {
   "cell_type": "code",
   "execution_count": 69,
   "id": "165f9038",
   "metadata": {},
   "outputs": [],
   "source": [
    "my_list = [\"hello\", \"world\", \"how\", \"are\", \"you\"]\n",
    "\n",
    "for i in my_list:\n",
    "    f.write(i+\"\\n\")"
   ]
  },
  {
   "cell_type": "code",
   "execution_count": 70,
   "id": "d0a939dc",
   "metadata": {},
   "outputs": [],
   "source": [
    "f.close()"
   ]
  },
  {
   "cell_type": "code",
   "execution_count": 71,
   "id": "8e65dc3e",
   "metadata": {},
   "outputs": [],
   "source": [
    "# if you are getting encoding error means try this "
   ]
  },
  {
   "cell_type": "code",
   "execution_count": 74,
   "id": "d4b86d23",
   "metadata": {},
   "outputs": [],
   "source": [
    "file=open(\"tes.txt\",\"r\",encoding=\"utf-8\")"
   ]
  },
  {
   "cell_type": "code",
   "execution_count": 75,
   "id": "1a1aa09d",
   "metadata": {},
   "outputs": [],
   "source": [
    "# appending"
   ]
  },
  {
   "cell_type": "code",
   "execution_count": 76,
   "id": "038be7b3",
   "metadata": {},
   "outputs": [],
   "source": [
    "f = open(\"forintext\",\"a\")"
   ]
  },
  {
   "cell_type": "code",
   "execution_count": 80,
   "id": "a6edc88a",
   "metadata": {},
   "outputs": [
    {
     "data": {
      "text/plain": [
       "5"
      ]
     },
     "execution_count": 80,
     "metadata": {},
     "output_type": "execute_result"
    }
   ],
   "source": [
    "f.write(\"hello\")"
   ]
  },
  {
   "cell_type": "code",
   "execution_count": 81,
   "id": "40be67ee",
   "metadata": {},
   "outputs": [
    {
     "data": {
      "text/plain": [
       "5"
      ]
     },
     "execution_count": 81,
     "metadata": {},
     "output_type": "execute_result"
    }
   ],
   "source": [
    "f.write(\"heavy\")"
   ]
  },
  {
   "cell_type": "code",
   "execution_count": 82,
   "id": "f50fec70",
   "metadata": {},
   "outputs": [],
   "source": [
    "f.close()"
   ]
  },
  {
   "cell_type": "code",
   "execution_count": null,
   "id": "f530ce93",
   "metadata": {},
   "outputs": [],
   "source": []
  }
 ],
 "metadata": {
  "kernelspec": {
   "display_name": "Python 3 (ipykernel)",
   "language": "python",
   "name": "python3"
  },
  "language_info": {
   "codemirror_mode": {
    "name": "ipython",
    "version": 3
   },
   "file_extension": ".py",
   "mimetype": "text/x-python",
   "name": "python",
   "nbconvert_exporter": "python",
   "pygments_lexer": "ipython3",
   "version": "3.9.12"
  }
 },
 "nbformat": 4,
 "nbformat_minor": 5
}
