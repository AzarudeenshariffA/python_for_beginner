{
 "cells": [
  {
   "cell_type": "code",
   "execution_count": 3,
   "id": "695484e1",
   "metadata": {},
   "outputs": [
    {
     "name": "stdout",
     "output_type": "stream",
     "text": [
      "Enter the celsius: 45\n",
      "the celsius 45 to fahrenheit is 113.0\n"
     ]
    }
   ],
   "source": [
    "# convertor \n",
    "\n",
    "def conver_cel(c):\n",
    "    f = (9/5)*c + 32\n",
    "    return f\n",
    "\n",
    "\n",
    "deg = int(input(\"Enter the celsius: \"))\n",
    "print(f\"The celsius {deg} to fahrenheit is {conver_cel(deg)}\")"
   ]
  },
  {
   "cell_type": "code",
   "execution_count": 4,
   "id": "ab419a3d",
   "metadata": {},
   "outputs": [
    {
     "name": "stdout",
     "output_type": "stream",
     "text": [
      "enter minuts and sec separated with space: 54 43\n"
     ]
    },
    {
     "data": {
      "text/plain": [
       "0"
      ]
     },
     "execution_count": 4,
     "metadata": {},
     "output_type": "execute_result"
    }
   ],
   "source": [
    "# minutes & sec to hour\n",
    "#  time in minutes / 60 = time in seconds / 3600.\n",
    "\n",
    "def hour(m,s):\n",
    "    h = (m/60) + (s / 3600)\n",
    "    return int(h)\n",
    "\n",
    "m, n = input(\"enter minuts and sec separated with space: \").split(\" \")\n",
    "\n",
    "hour(int(m),int(n))"
   ]
  },
  {
   "cell_type": "code",
   "execution_count": null,
   "id": "6f984a84",
   "metadata": {},
   "outputs": [],
   "source": []
  }
 ],
 "metadata": {
  "kernelspec": {
   "display_name": "Python 3 (ipykernel)",
   "language": "python",
   "name": "python3"
  },
  "language_info": {
   "codemirror_mode": {
    "name": "ipython",
    "version": 3
   },
   "file_extension": ".py",
   "mimetype": "text/x-python",
   "name": "python",
   "nbconvert_exporter": "python",
   "pygments_lexer": "ipython3",
   "version": "3.9.12"
  }
 },
 "nbformat": 4,
 "nbformat_minor": 5
}
