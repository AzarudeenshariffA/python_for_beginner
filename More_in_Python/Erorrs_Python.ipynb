{
 "cells": [
  {
   "cell_type": "code",
   "execution_count": 5,
   "id": "92101f9a",
   "metadata": {},
   "outputs": [],
   "source": [
    "# there are 30+ error \n",
    "# here are the some examples of errors\n"
   ]
  },
  {
   "cell_type": "code",
   "execution_count": 6,
   "id": "dfae45e5",
   "metadata": {},
   "outputs": [
    {
     "ename": "SyntaxError",
     "evalue": "unexpected EOF while parsing (3196961585.py, line 2)",
     "output_type": "error",
     "traceback": [
      "\u001b[1;36m  Input \u001b[1;32mIn [6]\u001b[1;36m\u001b[0m\n\u001b[1;33m    print(\"\" # occurs when you don't follow the rule\u001b[0m\n\u001b[1;37m                                                     ^\u001b[0m\n\u001b[1;31mSyntaxError\u001b[0m\u001b[1;31m:\u001b[0m unexpected EOF while parsing\n"
     ]
    }
   ],
   "source": [
    "# syntax error \n",
    "print(\"\" # occurs when you don't follow the rule  ^--> token"
   ]
  },
  {
   "cell_type": "code",
   "execution_count": 9,
   "id": "b2ceabac",
   "metadata": {},
   "outputs": [
    {
     "ename": "SyntaxError",
     "evalue": "invalid syntax (3318116244.py, line 2)",
     "output_type": "error",
     "traceback": [
      "\u001b[1;36m  Input \u001b[1;32mIn [9]\u001b[1;36m\u001b[0m\n\u001b[1;33m    print('hello')\u001b[0m\n\u001b[1;37m    ^\u001b[0m\n\u001b[1;31mSyntaxError\u001b[0m\u001b[1;31m:\u001b[0m invalid syntax\n"
     ]
    }
   ],
   "source": [
    "print('hi'\n",
    "print('hello')"
   ]
  },
  {
   "cell_type": "code",
   "execution_count": 12,
   "id": "b3cc3c77",
   "metadata": {},
   "outputs": [
    {
     "ename": "IndentationError",
     "evalue": "unexpected indent (2803461868.py, line 3)",
     "output_type": "error",
     "traceback": [
      "\u001b[1;36m  Input \u001b[1;32mIn [12]\u001b[1;36m\u001b[0m\n\u001b[1;33m    3+5\u001b[0m\n\u001b[1;37m    ^\u001b[0m\n\u001b[1;31mIndentationError\u001b[0m\u001b[1;31m:\u001b[0m unexpected indent\n"
     ]
    }
   ],
   "source": [
    "# indentation error --> alignment should be in a proper line\n",
    "\n",
    "    3+5\n",
    "3+5"
   ]
  },
  {
   "cell_type": "code",
   "execution_count": 13,
   "id": "e8cdc94e",
   "metadata": {},
   "outputs": [
    {
     "ename": "IndentationError",
     "evalue": "expected an indented block (1005845934.py, line 2)",
     "output_type": "error",
     "traceback": [
      "\u001b[1;36m  Input \u001b[1;32mIn [13]\u001b[1;36m\u001b[0m\n\u001b[1;33m    print(\"hi\")\u001b[0m\n\u001b[1;37m    ^\u001b[0m\n\u001b[1;31mIndentationError\u001b[0m\u001b[1;31m:\u001b[0m expected an indented block\n"
     ]
    }
   ],
   "source": [
    "if 18>0:\n",
    "print(\"hi\") # --> alignment error (use tab to avoid this type of error)\n",
    "    # print(\"hi\")"
   ]
  },
  {
   "cell_type": "code",
   "execution_count": 14,
   "id": "5f972fdd",
   "metadata": {},
   "outputs": [],
   "source": [
    "# type error"
   ]
  },
  {
   "cell_type": "code",
   "execution_count": 16,
   "id": "abe18df5",
   "metadata": {},
   "outputs": [
    {
     "ename": "TypeError",
     "evalue": "unsupported operand type(s) for +: 'int' and 'str'",
     "output_type": "error",
     "traceback": [
      "\u001b[1;31m---------------------------------------------------------------------------\u001b[0m",
      "\u001b[1;31mTypeError\u001b[0m                                 Traceback (most recent call last)",
      "Input \u001b[1;32mIn [16]\u001b[0m, in \u001b[0;36m<cell line: 1>\u001b[1;34m()\u001b[0m\n\u001b[1;32m----> 1\u001b[0m \u001b[38;5;241;43m3\u001b[39;49m\u001b[43m \u001b[49m\u001b[38;5;241;43m+\u001b[39;49m\u001b[43m \u001b[49m\u001b[38;5;124;43m\"\u001b[39;49m\u001b[38;5;124;43m2\u001b[39;49m\u001b[38;5;124;43m\"\u001b[39;49m\n",
      "\u001b[1;31mTypeError\u001b[0m: unsupported operand type(s) for +: 'int' and 'str'"
     ]
    }
   ],
   "source": [
    "3 + \"2\" # --> operation performed to be in similar data type rathen than another type"
   ]
  },
  {
   "cell_type": "code",
   "execution_count": 17,
   "id": "522d5044",
   "metadata": {},
   "outputs": [],
   "source": [
    "# Name error --> when you forget to declare variable and using undeclared variable"
   ]
  },
  {
   "cell_type": "code",
   "execution_count": 19,
   "id": "d6625447",
   "metadata": {},
   "outputs": [
    {
     "ename": "NameError",
     "evalue": "name 'a' is not defined",
     "output_type": "error",
     "traceback": [
      "\u001b[1;31m---------------------------------------------------------------------------\u001b[0m",
      "\u001b[1;31mNameError\u001b[0m                                 Traceback (most recent call last)",
      "Input \u001b[1;32mIn [19]\u001b[0m, in \u001b[0;36m<cell line: 2>\u001b[1;34m()\u001b[0m\n\u001b[0;32m      1\u001b[0m x \u001b[38;5;241m=\u001b[39m \u001b[38;5;241m3\u001b[39m\n\u001b[1;32m----> 2\u001b[0m \u001b[43ma\u001b[49m \u001b[38;5;241m+\u001b[39m x\n",
      "\u001b[1;31mNameError\u001b[0m: name 'a' is not defined"
     ]
    }
   ],
   "source": [
    "x = 3\n",
    "a + x"
   ]
  },
  {
   "cell_type": "code",
   "execution_count": 21,
   "id": "de28f3c2",
   "metadata": {},
   "outputs": [],
   "source": [
    "# zero division error"
   ]
  },
  {
   "cell_type": "code",
   "execution_count": 22,
   "id": "1c4259cf",
   "metadata": {},
   "outputs": [
    {
     "ename": "ZeroDivisionError",
     "evalue": "division by zero",
     "output_type": "error",
     "traceback": [
      "\u001b[1;31m---------------------------------------------------------------------------\u001b[0m",
      "\u001b[1;31mZeroDivisionError\u001b[0m                         Traceback (most recent call last)",
      "Input \u001b[1;32mIn [22]\u001b[0m, in \u001b[0;36m<cell line: 1>\u001b[1;34m()\u001b[0m\n\u001b[1;32m----> 1\u001b[0m \u001b[38;5;241;43m4\u001b[39;49m\u001b[38;5;241;43m/\u001b[39;49m\u001b[38;5;241;43m0\u001b[39;49m\n",
      "\u001b[1;31mZeroDivisionError\u001b[0m: division by zero"
     ]
    }
   ],
   "source": [
    "4/0 # anything divide by 0 gives infity"
   ]
  },
  {
   "cell_type": "code",
   "execution_count": 23,
   "id": "f8ae6deb",
   "metadata": {},
   "outputs": [
    {
     "ename": "NameError",
     "evalue": "name 'g' is not defined",
     "output_type": "error",
     "traceback": [
      "\u001b[1;31m---------------------------------------------------------------------------\u001b[0m",
      "\u001b[1;31mNameError\u001b[0m                                 Traceback (most recent call last)",
      "Input \u001b[1;32mIn [23]\u001b[0m, in \u001b[0;36m<cell line: 1>\u001b[1;34m()\u001b[0m\n\u001b[1;32m----> 1\u001b[0m \u001b[43mg\u001b[49m\u001b[38;5;241m/\u001b[39m\u001b[38;5;241m0\u001b[39m\n",
      "\u001b[1;31mNameError\u001b[0m: name 'g' is not defined"
     ]
    }
   ],
   "source": []
  },
  {
   "cell_type": "code",
   "execution_count": 24,
   "id": "320ab3e3",
   "metadata": {},
   "outputs": [],
   "source": [
    " # index error --> when you use out of index in the data"
   ]
  },
  {
   "cell_type": "code",
   "execution_count": 25,
   "id": "ad750c20",
   "metadata": {},
   "outputs": [
    {
     "ename": "IndexError",
     "evalue": "string index out of range",
     "output_type": "error",
     "traceback": [
      "\u001b[1;31m---------------------------------------------------------------------------\u001b[0m",
      "\u001b[1;31mIndexError\u001b[0m                                Traceback (most recent call last)",
      "Input \u001b[1;32mIn [25]\u001b[0m, in \u001b[0;36m<cell line: 2>\u001b[1;34m()\u001b[0m\n\u001b[0;32m      1\u001b[0m s \u001b[38;5;241m=\u001b[39m\u001b[38;5;124m\"\u001b[39m\u001b[38;5;124mazar\u001b[39m\u001b[38;5;124m\"\u001b[39m\n\u001b[1;32m----> 2\u001b[0m \u001b[43ms\u001b[49m\u001b[43m[\u001b[49m\u001b[38;5;241;43m4\u001b[39;49m\u001b[43m]\u001b[49m\n",
      "\u001b[1;31mIndexError\u001b[0m: string index out of range"
     ]
    }
   ],
   "source": [
    "s =\"azar\"\n",
    "s[4]"
   ]
  },
  {
   "cell_type": "code",
   "execution_count": 26,
   "id": "313f3995",
   "metadata": {},
   "outputs": [],
   "source": [
    "# Attribute error --> using different method for different datatype"
   ]
  },
  {
   "cell_type": "code",
   "execution_count": 27,
   "id": "38eef0c0",
   "metadata": {},
   "outputs": [
    {
     "name": "stdout",
     "output_type": "stream",
     "text": [
      "Azar\n"
     ]
    }
   ],
   "source": [
    "x = \"azar\"\n",
    "y = 54\n",
    "\n",
    "print(x.title())"
   ]
  },
  {
   "cell_type": "code",
   "execution_count": 28,
   "id": "4aa6b737",
   "metadata": {},
   "outputs": [
    {
     "ename": "AttributeError",
     "evalue": "'int' object has no attribute 'title'",
     "output_type": "error",
     "traceback": [
      "\u001b[1;31m---------------------------------------------------------------------------\u001b[0m",
      "\u001b[1;31mAttributeError\u001b[0m                            Traceback (most recent call last)",
      "Input \u001b[1;32mIn [28]\u001b[0m, in \u001b[0;36m<cell line: 1>\u001b[1;34m()\u001b[0m\n\u001b[1;32m----> 1\u001b[0m \u001b[38;5;28mprint\u001b[39m(\u001b[43my\u001b[49m\u001b[38;5;241;43m.\u001b[39;49m\u001b[43mtitle\u001b[49m())\n",
      "\u001b[1;31mAttributeError\u001b[0m: 'int' object has no attribute 'title'"
     ]
    }
   ],
   "source": [
    "print(y.title())"
   ]
  },
  {
   "cell_type": "code",
   "execution_count": 29,
   "id": "07157c84",
   "metadata": {},
   "outputs": [],
   "source": [
    "# Runtime error --> running keepon..."
   ]
  },
  {
   "cell_type": "code",
   "execution_count": 30,
   "id": "4d3e52f9",
   "metadata": {},
   "outputs": [],
   "source": [
    "# handling errors\n",
    "print(\"hello\")"
   ]
  },
  {
   "cell_type": "code",
   "execution_count": null,
   "id": "52293f76",
   "metadata": {},
   "outputs": [],
   "source": [
    "# you just google the error and when you did't get what actual a error is and make use of stackoverflow"
   ]
  }
 ],
 "metadata": {
  "kernelspec": {
   "display_name": "Python 3 (ipykernel)",
   "language": "python",
   "name": "python3"
  },
  "language_info": {
   "codemirror_mode": {
    "name": "ipython",
    "version": 3
   },
   "file_extension": ".py",
   "mimetype": "text/x-python",
   "name": "python",
   "nbconvert_exporter": "python",
   "pygments_lexer": "ipython3",
   "version": "3.9.12"
  }
 },
 "nbformat": 4,
 "nbformat_minor": 5
}
